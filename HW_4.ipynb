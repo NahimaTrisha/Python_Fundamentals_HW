{
  "nbformat": 4,
  "nbformat_minor": 0,
  "metadata": {
    "colab": {
      "name": "HW 4.ipynb",
      "provenance": [],
      "collapsed_sections": [],
      "authorship_tag": "ABX9TyO43UYRrOLI0RpDQB5yWP1D",
      "include_colab_link": true
    },
    "kernelspec": {
      "name": "python3",
      "display_name": "Python 3"
    },
    "language_info": {
      "name": "python"
    }
  },
  "cells": [
    {
      "cell_type": "markdown",
      "metadata": {
        "id": "view-in-github",
        "colab_type": "text"
      },
      "source": [
        "<a href=\"https://colab.research.google.com/github/NahimaTrisha/Python_Fundamentals_HW/blob/main/HW_4.ipynb\" target=\"_parent\"><img src=\"https://colab.research.google.com/assets/colab-badge.svg\" alt=\"Open In Colab\"/></a>"
      ]
    },
    {
      "cell_type": "markdown",
      "metadata": {
        "id": "yIAClKKqHZtq"
      },
      "source": [
        "2"
      ]
    },
    {
      "cell_type": "code",
      "metadata": {
        "id": "XsyiL77-ZFFn"
      },
      "source": [
        "def maximumWealth(accounts):\n",
        "        return max([sum(i) for i in accounts])"
      ],
      "execution_count": 46,
      "outputs": []
    },
    {
      "cell_type": "code",
      "metadata": {
        "colab": {
          "base_uri": "https://localhost:8080/"
        },
        "id": "uocE2tMuFQpI",
        "outputId": "f91e8daa-8604-43d3-f9bc-b30146396c7b"
      },
      "source": [
        "maximumWealth([[1,2,3],[3,2,1]])"
      ],
      "execution_count": 47,
      "outputs": [
        {
          "output_type": "execute_result",
          "data": {
            "text/plain": [
              "6"
            ]
          },
          "metadata": {
            "tags": []
          },
          "execution_count": 47
        }
      ]
    },
    {
      "cell_type": "markdown",
      "metadata": {
        "id": "lXU5DKzRHfBE"
      },
      "source": [
        "**3**"
      ]
    },
    {
      "cell_type": "code",
      "metadata": {
        "id": "s5w7160dFfoJ"
      },
      "source": [
        "def shuffle(nums,n):\n",
        "        res = []\n",
        "        for i in range(n):\n",
        "            res.append(nums[i])\n",
        "            res.append(nums[i + n])\n",
        "        return res"
      ],
      "execution_count": 58,
      "outputs": []
    },
    {
      "cell_type": "code",
      "metadata": {
        "colab": {
          "base_uri": "https://localhost:8080/"
        },
        "id": "yk2PtbZkF1Lj",
        "outputId": "7173f86e-1c43-436b-89a8-5296b062fc6b"
      },
      "source": [
        "shuffle([2,5,1,3,4,7],3)"
      ],
      "execution_count": 60,
      "outputs": [
        {
          "output_type": "execute_result",
          "data": {
            "text/plain": [
              "[2, 3, 5, 4, 1, 7]"
            ]
          },
          "metadata": {
            "tags": []
          },
          "execution_count": 60
        }
      ]
    },
    {
      "cell_type": "markdown",
      "metadata": {
        "id": "aYdsjyyzHhuG"
      },
      "source": [
        "**4**"
      ]
    },
    {
      "cell_type": "code",
      "metadata": {
        "id": "mU2tFBtI7N2p"
      },
      "source": [
        "def isPerfectSquare(num: int):\n",
        "        return int (math.sqrt(num))**2==num"
      ],
      "execution_count": 43,
      "outputs": []
    },
    {
      "cell_type": "code",
      "metadata": {
        "colab": {
          "base_uri": "https://localhost:8080/"
        },
        "id": "3ckL2LF3EWPV",
        "outputId": "18b06073-7260-4b3c-f3f4-b6264759e40e"
      },
      "source": [
        "isPerfectSquare(16)"
      ],
      "execution_count": 44,
      "outputs": [
        {
          "output_type": "execute_result",
          "data": {
            "text/plain": [
              "True"
            ]
          },
          "metadata": {
            "tags": []
          },
          "execution_count": 44
        }
      ]
    }
  ]
}